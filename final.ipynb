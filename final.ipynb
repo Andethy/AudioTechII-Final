{
 "cells": [
  {
   "cell_type": "code",
   "id": "initial_id",
   "metadata": {
    "collapsed": true,
    "ExecuteTime": {
     "end_time": "2024-04-27T20:17:03.276349Z",
     "start_time": "2024-04-27T20:17:03.271953Z"
    }
   },
   "source": [
    "from __future__ import annotations\n",
    "\n",
    "import json\n",
    "import os\n",
    "from pathlib import Path\n",
    "from queue import Queue\n",
    "\n",
    "import numpy as np\n",
    "import pandas as pd\n",
    "from librosa import load, feature\n",
    "from sklearn.linear_model import LogisticRegression\n",
    "from sklearn.metrics import confusion_matrix, classification_report\n",
    "from sklearn.model_selection import train_test_split\n",
    "\n",
    "PATH_TO_FILES = Path('files/')"
   ],
   "outputs": [],
   "execution_count": 59
  },
  {
   "metadata": {
    "ExecuteTime": {
     "end_time": "2024-04-27T20:17:03.283384Z",
     "start_time": "2024-04-27T20:17:03.278767Z"
    }
   },
   "cell_type": "code",
   "source": [
    "class FileFinder:\n",
    "    suffixes: set[str]\n",
    "    _queue: Queue[Path]\n",
    "\n",
    "    def __init__(self, root, suffixes):\n",
    "        self.root = Path(root)\n",
    "        self._queue = Queue()\n",
    "        self.suffixes = suffixes\n",
    "\n",
    "        self._queue.put(self.root)\n",
    "\n",
    "    def get_next_file(self):\n",
    "        if self._queue.empty():\n",
    "            print(\"Queue is empty\")\n",
    "            return None\n",
    "\n",
    "        res = self._queue.get()\n",
    "        if res.is_dir():\n",
    "            for child in res.iterdir():\n",
    "                if child.suffix[1:].lower() in self.suffixes or child.is_dir():\n",
    "                    # print(f'Added {child.name} to queue [{\"folder\" if child.is_dir() else child.suffix}]')\n",
    "                    self._queue.put(child)\n",
    "            return Ellipsis\n",
    "        else:\n",
    "            return res if res.suffix[1:] in self.suffixes else None\n",
    "\n",
    "    def reset(self):\n",
    "        self._queue = Queue()\n",
    "        self._queue.put(self.root)\n",
    "\n",
    "    def get_rel_path(self, file: Path):\n",
    "        return Path(os.path.relpath(file.parent, self.root).__str__())\n",
    "\n",
    "    def get_full_path(self, file: Path):\n",
    "        return self.root.joinpath(file)\n",
    "\n",
    "class FileIO:\n",
    "    _data: list[dict, ...]\n",
    "\n",
    "    def __init__(self, path):\n",
    "        self.path = Path(path)\n",
    "        self._data = ...\n",
    "    \n",
    "    def get_data(self):\n",
    "        with open(self.path) as json_file:\n",
    "            self._data = json.load(json_file)\n",
    "        return self._data\n",
    "    \n",
    "    def set_data(self, data):\n",
    "        if type(data) is list:\n",
    "            self._data = data\n",
    "            with open(self.path, 'w') as json_file:\n",
    "                json_file.write(json.dumps(self._data, sort_keys=False, indent=4))\n",
    "        "
   ],
   "id": "5f5eeeb264f2ef48",
   "outputs": [],
   "execution_count": 60
  },
  {
   "metadata": {
    "ExecuteTime": {
     "end_time": "2024-04-27T20:17:03.288291Z",
     "start_time": "2024-04-27T20:17:03.284662Z"
    }
   },
   "cell_type": "code",
   "source": [
    "#TODO: standardize/normalize features\n",
    "\n",
    "class FeatureExtractor:\n",
    "    def __init__(self):\n",
    "        self.mfccs = 13\n",
    "        self.rate = 22050\n",
    "    \n",
    "    def not_static(self):\n",
    "        \"\"\"\n",
    "        Method to ensure all the methods cannot be static.\n",
    "        \"\"\"\n",
    "        pass\n",
    "    \n",
    "    def tempo(self, audio):\n",
    "        return np.mean(feature.tempo(y=audio, sr=self.rate).tolist())\n",
    "    \n",
    "    def rms(self, audio):\n",
    "        self.not_static()\n",
    "        return np.mean(feature.rms(y=audio).tolist())\n",
    "    \n",
    "    def mfcc(self, audio):\n",
    "        return np.mean(feature.mfcc(y=audio, sr=self.rate, n_mfcc=self.mfccs).tolist(), axis=1)\n",
    "    \n",
    "    def bandwidth(self, audio):\n",
    "        return np.mean(feature.spectral_bandwidth(y=audio, sr=self.rate).tolist())\n",
    "    \n",
    "    def centroid(self, audio):\n",
    "        return np.mean(feature.spectral_centroid(y=audio, sr=self.rate).tolist())\n",
    "    \n",
    "    def contrast(self, audio):\n",
    "        return np.mean(feature.spectral_contrast(y=audio, sr=self.rate).tolist())\n",
    "    \n",
    "    def rolloff(self, audio):\n",
    "        return np.mean(feature.spectral_rolloff(y=audio, sr=self.rate).tolist())\n",
    "    \n",
    "    def zcr(self, audio):\n",
    "        self.not_static()\n",
    "        return np.mean(feature.zero_crossing_rate(y=audio).tolist())\n",
    "    "
   ],
   "id": "f4f4ebbde3d31332",
   "outputs": [],
   "execution_count": 61
  },
  {
   "metadata": {
    "ExecuteTime": {
     "end_time": "2024-04-27T20:17:03.293487Z",
     "start_time": "2024-04-27T20:17:03.289969Z"
    }
   },
   "cell_type": "code",
   "source": [
    "class Model:\n",
    "    def __init__(self, dt: list, features):\n",
    "        self.dt = dt\n",
    "        self.df = pd.DataFrame(dt)\n",
    "        self.features = features\n",
    "        self.categories = self.df[['genre']]\n",
    "        self.predictors = self.df[features]\n",
    "        self.predictors.columns = features\n",
    "        self.model = ...\n",
    "        self.split_data = ...\n",
    "        self.res = ...\n",
    "    \n",
    "    def update_dataframe(self, df):\n",
    "        self.df = df\n",
    "    \n",
    "    def generate_model(self, test_size=0.33, solver='newton-cg', iters=1000):\n",
    "        self.split_data = train_test_split(self.predictors, self.categories, test_size=test_size, random_state=5)\n",
    "        pre_train, pre_test, cat_train, cat_test = self.split_data\n",
    "        self.model = LogisticRegression(multi_class='multinomial', solver=solver, max_iter=iters)\n",
    "        self.model.fit(pre_train, cat_train.genre)\n",
    "        self.res = self.model.predict(pre_test)\n",
    "        \n",
    "    def get_res(self):\n",
    "        return self.res\n",
    "    \n",
    "    def get_matrix(self):\n",
    "        return confusion_matrix(self.split_data[3], self.res)\n",
    "    \n",
    "    def get_report(self):\n",
    "        return classification_report(self.split_data[3], self.res)"
   ],
   "id": "fc06a5bad4ebf028",
   "outputs": [],
   "execution_count": 62
  },
  {
   "metadata": {
    "ExecuteTime": {
     "end_time": "2024-04-27T20:17:22.649008Z",
     "start_time": "2024-04-27T20:17:03.294547Z"
    }
   },
   "cell_type": "code",
   "source": [
    "### ONLY RUN THIS CELL TO EXTRACT FEATURES\n",
    "DATA = []\n",
    "if input():\n",
    "    finder = FileFinder(PATH_TO_FILES, ('au', ))\n",
    "    output = FileIO('data.json')\n",
    "    extractor = FeatureExtractor()\n",
    "    \n",
    "    while True:\n",
    "        curr = finder.get_next_file()\n",
    "        if not curr:\n",
    "            break\n",
    "        elif curr is ...:\n",
    "            continue\n",
    "        else:\n",
    "            curr_file, fs = load(curr, duration=7, sr=extractor.rate)\n",
    "            DATA.append(dict(\n",
    "                id=curr.name,\n",
    "                genre=curr.parent.name,\n",
    "                **dict(zip((f'mfcc{n}' for n in range(extractor.mfccs)), extractor.mfcc(curr_file))),\n",
    "                tempo=extractor.tempo(curr_file),\n",
    "                rms=extractor.rms(curr_file),\n",
    "                bandwidth=extractor.bandwidth(curr_file),\n",
    "                centroid=extractor.centroid(curr_file),\n",
    "                contrast=extractor.contrast(curr_file),\n",
    "                rolloff=extractor.rolloff(curr_file),\n",
    "                zcr=extractor.zcr(curr_file),\n",
    "                prediction=''\n",
    "            ))\n",
    "            # print(curr.parent.name, curr.name.split('.')[1])\n",
    "    \n",
    "    output.set_data(DATA)\n",
    "    print('Success')"
   ],
   "id": "827c0c96ddc79e6c",
   "outputs": [
    {
     "name": "stdout",
     "output_type": "stream",
     "text": [
      "Queue is empty\n",
      "Success\n"
     ]
    }
   ],
   "execution_count": 63
  },
  {
   "metadata": {
    "ExecuteTime": {
     "end_time": "2024-04-27T20:17:22.653703Z",
     "start_time": "2024-04-27T20:17:22.650873Z"
    }
   },
   "cell_type": "code",
   "source": [
    "### OLD CODE\n",
    "\n",
    "# test_features = [*(f'mfcc{n}' for n in range(extractor.mfccs // 2)), 'zcr']\n",
    "# \n",
    "# frame = pd.DataFrame(data)\n",
    "# categories = frame[['genre']]\n",
    "# predictors = frame[test_features]\n",
    "# predictors.columns = test_features\n",
    "# \n",
    "# pre_train, pre_test, cat_train, cat_test = train_test_split(predictors, categories, test_size=0.33, random_state=5)\n",
    "# model = LogisticRegression(multi_class='multinomial', solver='newton-cg', max_iter=1000)\n",
    "# model.fit(pre_train, cat_train.genre)\n",
    "# predictions = model.predict(pre_test)\n",
    "# print(confusion_matrix(cat_test, predictions))\n",
    "# print(classification_report(cat_test, predictions))"
   ],
   "id": "eb34791ec127cf69",
   "outputs": [],
   "execution_count": 64
  },
  {
   "metadata": {
    "ExecuteTime": {
     "end_time": "2024-04-27T20:17:22.660126Z",
     "start_time": "2024-04-27T20:17:22.655552Z"
    }
   },
   "cell_type": "code",
   "source": [
    "### RUN THIS CELL TO GET THE DATA WITHOUT RE-EXTRACTING THE FEATURES \n",
    "DATA = FileIO('data.json').get_data()"
   ],
   "id": "74d846b70ea633b4",
   "outputs": [],
   "execution_count": 65
  },
  {
   "metadata": {
    "ExecuteTime": {
     "end_time": "2024-04-27T20:17:22.763435Z",
     "start_time": "2024-04-27T20:17:22.662171Z"
    }
   },
   "cell_type": "code",
   "source": [
    "### EXAMPLE MODEL\n",
    "\n",
    "\n",
    "\n",
    "# Change the list in this constructor to change the features analyzed (names must match JSON file)\n",
    "m1 = Model(DATA,\n",
    "           [*(f'mfcc{n}' for n in range(10)), \n",
    "            'contrast',\n",
    "            'zcr']\n",
    "           )\n",
    "\n",
    "# Add parameters to change model functionality\n",
    "m1.generate_model()\n",
    "print(m1.get_matrix())\n",
    "print(m1.get_report())"
   ],
   "id": "49328fcf388de8b6",
   "outputs": [
    {
     "name": "stdout",
     "output_type": "stream",
     "text": [
      "[[ 9  0  1  1  0]\n",
      " [ 1  8  3  5  3]\n",
      " [ 0  1 15  0  0]\n",
      " [ 0  3  0 13  0]\n",
      " [ 1  2  7  3  7]]\n",
      "              precision    recall  f1-score   support\n",
      "\n",
      "   classical       0.82      0.82      0.82        11\n",
      "      hiphop       0.57      0.40      0.47        20\n",
      "        jazz       0.58      0.94      0.71        16\n",
      "         pop       0.59      0.81      0.68        16\n",
      "      reggae       0.70      0.35      0.47        20\n",
      "\n",
      "    accuracy                           0.63        83\n",
      "   macro avg       0.65      0.66      0.63        83\n",
      "weighted avg       0.64      0.63      0.60        83\n",
      "\n"
     ]
    }
   ],
   "execution_count": 66
  },
  {
   "metadata": {
    "ExecuteTime": {
     "end_time": "2024-04-27T20:17:22.772576Z",
     "start_time": "2024-04-27T20:17:22.764673Z"
    }
   },
   "cell_type": "code",
   "source": "",
   "id": "ab2542c72507515",
   "outputs": [],
   "execution_count": 66
  }
 ],
 "metadata": {
  "kernelspec": {
   "display_name": "Python 3",
   "language": "python",
   "name": "python3"
  },
  "language_info": {
   "codemirror_mode": {
    "name": "ipython",
    "version": 2
   },
   "file_extension": ".py",
   "mimetype": "text/x-python",
   "name": "python",
   "nbconvert_exporter": "python",
   "pygments_lexer": "ipython2",
   "version": "2.7.6"
  }
 },
 "nbformat": 4,
 "nbformat_minor": 5
}
