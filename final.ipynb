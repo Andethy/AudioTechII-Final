{
 "cells": [
  {
   "cell_type": "code",
   "id": "initial_id",
   "metadata": {
    "collapsed": true,
    "ExecuteTime": {
<<<<<<< Updated upstream
     "end_time": "2024-04-29T03:12:35.029608Z",
     "start_time": "2024-04-29T03:12:29.352294Z"
=======
     "end_time": "2024-04-29T04:05:58.914390Z",
     "start_time": "2024-04-29T04:05:58.910568Z"
>>>>>>> Stashed changes
    }
   },
   "source": [
    "from __future__ import annotations\n",
    "\n",
    "import json\n",
    "import os\n",
    "from pathlib import Path\n",
    "from queue import Queue\n",
    "\n",
    "import numpy as np\n",
    "import pandas as pd\n",
    "from librosa import load, feature\n",
    "from sklearn.linear_model import LogisticRegression\n",
    "from sklearn.metrics import confusion_matrix, classification_report\n",
    "from sklearn.model_selection import train_test_split\n",
    "\n",
    "PATH_TO_FILES = Path('files/')"
   ],
   "outputs": [],
<<<<<<< Updated upstream
   "execution_count": 1
=======
   "execution_count": 91
  },
  {
   "metadata": {},
   "cell_type": "markdown",
   "source": [
    "# Final Project: Genre Detection\n",
    "## By: Jack Hayley, Matthew McCollum, Mikhail Titov\n",
    "### Notes\n",
    "- All self-defined methods are documented and explained using comments\n",
    "- Each model includes an explanation and analysis"
   ],
   "id": "d88dd6c9730a6bee"
>>>>>>> Stashed changes
  },
  {
   "metadata": {
    "ExecuteTime": {
<<<<<<< Updated upstream
     "end_time": "2024-04-29T03:12:35.038735Z",
     "start_time": "2024-04-29T03:12:35.030917Z"
=======
     "end_time": "2024-04-29T04:05:58.957549Z",
     "start_time": "2024-04-29T04:05:58.948968Z"
>>>>>>> Stashed changes
    }
   },
   "cell_type": "code",
   "source": [
    "class FileFinder:\n",
    "    suffixes: set[str]\n",
    "    _queue: Queue[Path]\n",
    "\n",
    "    def __init__(self, root, suffixes):\n",
    "        self.root = Path(root)\n",
    "        self._queue = Queue()\n",
    "        self.suffixes = suffixes\n",
    "\n",
    "        self._queue.put(self.root)\n",
    "\n",
    "    def get_next_file(self):\n",
    "        if self._queue.empty():\n",
    "            print(\"Queue is empty\")\n",
    "            return None\n",
    "\n",
    "        res = self._queue.get()\n",
    "        if res.is_dir():\n",
    "            for child in res.iterdir():\n",
    "                if child.suffix[1:].lower() in self.suffixes or child.is_dir():\n",
    "                    # print(f'Added {child.name} to queue [{\"folder\" if child.is_dir() else child.suffix}]')\n",
    "                    self._queue.put(child)\n",
    "            return Ellipsis\n",
    "        else:\n",
    "            return res if res.suffix[1:] in self.suffixes else None\n",
    "\n",
    "    def reset(self):\n",
    "        self._queue = Queue()\n",
    "        self._queue.put(self.root)\n",
    "\n",
    "    def get_rel_path(self, file: Path):\n",
    "        return Path(os.path.relpath(file.parent, self.root).__str__())\n",
    "\n",
    "    def get_full_path(self, file: Path):\n",
    "        return self.root.joinpath(file)\n",
    "\n",
    "class FileIO:\n",
    "    _data: list[dict, ...]\n",
    "\n",
    "    def __init__(self, path):\n",
    "        self.path = Path(path)\n",
    "        self._data = ...\n",
    "    \n",
    "    def get_data(self):\n",
    "        with open(self.path) as json_file:\n",
    "            self._data = json.load(json_file)\n",
    "        return self._data\n",
    "    \n",
    "    def set_data(self, data):\n",
    "        if type(data) is list:\n",
    "            self._data = data\n",
    "            with open(self.path, 'w') as json_file:\n",
    "                json_file.write(json.dumps(self._data, sort_keys=False, indent=4))\n",
    "        "
   ],
   "id": "5f5eeeb264f2ef48",
   "outputs": [],
<<<<<<< Updated upstream
   "execution_count": 2
=======
   "execution_count": 92
>>>>>>> Stashed changes
  },
  {
   "metadata": {
    "ExecuteTime": {
<<<<<<< Updated upstream
     "end_time": "2024-04-29T03:12:35.052715Z",
     "start_time": "2024-04-29T03:12:35.039741Z"
=======
     "end_time": "2024-04-29T04:05:58.966681Z",
     "start_time": "2024-04-29T04:05:58.958052Z"
>>>>>>> Stashed changes
    }
   },
   "cell_type": "code",
   "source": [
    "#TODO: standardize/normalize features\n",
    "\n",
    "class FeatureExtractor:\n",
    "    def __init__(self):\n",
    "        self.mfccs = 13\n",
    "        self.rate = 22050\n",
    "    \n",
    "    def not_static(self):\n",
    "        \"\"\"\n",
    "        Method to ensure all the methods cannot be static.\n",
    "        \"\"\"\n",
    "        pass\n",
    "    \n",
    "    def tempo(self, audio):\n",
    "        return np.mean(feature.tempo(y=audio, sr=self.rate).tolist())\n",
    "    \n",
    "    def rms(self, audio):\n",
    "        self.not_static()\n",
    "        return np.mean(feature.rms(y=audio).tolist())\n",
    "    \n",
    "    def mfcc(self, audio):\n",
    "        return np.mean(feature.mfcc(y=audio, sr=self.rate, n_mfcc=self.mfccs).tolist(), axis=1)\n",
    "    \n",
    "    def bandwidth(self, audio):\n",
    "        return np.mean(feature.spectral_bandwidth(y=audio, sr=self.rate).tolist())\n",
    "    \n",
    "    def centroid(self, audio):\n",
    "        return np.mean(feature.spectral_centroid(y=audio, sr=self.rate).tolist())\n",
    "    \n",
    "    def contrast(self, audio):\n",
    "        return np.mean(feature.spectral_contrast(y=audio, sr=self.rate).tolist())\n",
    "    \n",
    "    def rolloff(self, audio):\n",
    "        return np.mean(feature.spectral_rolloff(y=audio, sr=self.rate).tolist())\n",
    "    \n",
    "    def zcr(self, audio):\n",
    "        self.not_static()\n",
    "        return np.mean(feature.zero_crossing_rate(y=audio).tolist())\n",
    "    "
   ],
   "id": "f4f4ebbde3d31332",
   "outputs": [],
<<<<<<< Updated upstream
   "execution_count": 3
=======
   "execution_count": 93
>>>>>>> Stashed changes
  },
  {
   "metadata": {
    "ExecuteTime": {
<<<<<<< Updated upstream
     "end_time": "2024-04-29T03:12:35.062141Z",
     "start_time": "2024-04-29T03:12:35.054088Z"
=======
     "end_time": "2024-04-29T04:05:58.976601Z",
     "start_time": "2024-04-29T04:05:58.970226Z"
>>>>>>> Stashed changes
    }
   },
   "cell_type": "code",
   "source": [
    "class Model:\n",
    "    def __init__(self, dt: list, features):\n",
    "        self.dt = dt\n",
    "        self.df = pd.DataFrame(dt)\n",
    "        self.features = features\n",
    "        self.categories = self.df[['genre']]\n",
    "        self.predictors = self.df[features]\n",
    "        self.predictors.columns = features\n",
    "        self.model = ...\n",
    "        self.split_data = ...\n",
    "        self.res = ...\n",
    "    \n",
    "    def update_dataframe(self, df):\n",
    "        self.df = df\n",
    "    \n",
    "    def generate_model(self, test_size=0.33, solver='newton-cg', iters=1000):\n",
    "        self.split_data = train_test_split(self.predictors, self.categories, test_size=test_size, random_state=5)\n",
    "        pre_train, pre_test, cat_train, cat_test = self.split_data\n",
    "        self.model = LogisticRegression(multi_class='multinomial', solver=solver, max_iter=iters)\n",
    "        self.model.fit(pre_train, cat_train.genre)\n",
    "        self.res = self.model.predict(pre_test)\n",
    "        \n",
    "    def get_res(self):\n",
    "        return self.res\n",
    "    \n",
    "    def get_matrix(self):\n",
    "        return confusion_matrix(self.split_data[3], self.res)\n",
    "    \n",
    "    def get_report(self):\n",
    "        return classification_report(self.split_data[3], self.res)"
   ],
   "id": "fc06a5bad4ebf028",
   "outputs": [],
<<<<<<< Updated upstream
   "execution_count": 4
=======
   "execution_count": 94
>>>>>>> Stashed changes
  },
  {
   "metadata": {
    "ExecuteTime": {
<<<<<<< Updated upstream
     "end_time": "2024-04-29T03:12:36.870105Z",
     "start_time": "2024-04-29T03:12:35.063150Z"
=======
     "end_time": "2024-04-29T04:05:58.989120Z",
     "start_time": "2024-04-29T04:05:58.982406Z"
    }
   },
   "cell_type": "code",
   "source": [
    "def get_heatmap(matrix):\n",
    "    #Visualize Confusion Matrix\n",
    "    confusion_matrix_data = matrix\n",
    "\n",
    "    # Genre labels\n",
    "    labels = ['Classical', 'HipHop', 'Jazz', 'Pop', 'Reggae']\n",
    "\n",
    "    # Create a figure and a set of subplots\n",
    "    fig, ax = plt.subplots()\n",
    "\n",
    "    # Create the heatmap\n",
    "    cax = ax.matshow(confusion_matrix_data, cmap=plt.cm.Blues)\n",
    "\n",
    "    # Add color bar\n",
    "    fig.colorbar(cax)\n",
    "\n",
    "    # Set the locations and labels of the ticks (small lines under axes)\n",
    "    ax.set_xticks(np.arange(len(labels)))\n",
    "    ax.set_xticklabels(labels, rotation=45)\n",
    "    ax.set_yticks(np.arange(len(labels)))\n",
    "    ax.set_yticklabels(labels)\n",
    "\n",
    "    # Set axis titles\n",
    "    ax.set_xlabel('True Genre')\n",
    "    ax.set_ylabel('Predicted Genre')\n",
    "\n",
    "    # Loop over the actual confusion matrix to get the values and format them into the heatmap.\n",
    "    for (i, j), val in np.ndenumerate(confusion_matrix_data):\n",
    "        ax.text(j, i, val, ha='center', va='center', \n",
    "            color='white' if val > np.max(confusion_matrix_data)/2 else 'black')\n",
    "\n",
    "    plt.show()\n",
    "\n",
    "def box_genres(df, feature):\n",
    "    # Choose the MFCC feature you're interested in\n",
    "\n",
    "    # Unique genres in your dataframe\n",
    "    genres = m1.df['genre'].unique()\n",
    "\n",
    "    # Data to plot\n",
    "    data_to_plot = [df[df['genre'] == genre][feature] for genre in genres]\n",
    "\n",
    "    # Create a figure instance\n",
    "    fig = plt.figure(figsize=(10, 6))\n",
    "\n",
    "    # Create an axes instance\n",
    "    ax = fig.add_subplot(111)\n",
    "\n",
    "    # Create the boxplot\n",
    "    ax.boxplot(data_to_plot)\n",
    "\n",
    "    # Set the tick labels on the x-axis to correspond to genres\n",
    "    ax.set_xticklabels(genres, rotation=45)\n",
    "\n",
    "    # Set the labels and title\n",
    "    ax.set_title(f'Distribution of {feature} Across Genres')\n",
    "    ax.set_xlabel('Genre')\n",
    "    ax.set_ylabel('Value of ' + feature)\n",
    "    \n",
    "    ax.grid(True, linestyle='--', which='major', color='grey', alpha=0.5)\n",
    "\n",
    "    # Show the plot\n",
    "    plt.show()"
   ],
   "id": "3feb5e40b05c285d",
   "outputs": [],
   "execution_count": 95
  },
  {
   "metadata": {
    "ExecuteTime": {
     "end_time": "2024-04-29T04:06:25.672351Z",
     "start_time": "2024-04-29T04:05:58.990317Z"
>>>>>>> Stashed changes
    }
   },
   "cell_type": "code",
   "source": [
    "### ONLY RUN THIS CELL TO EXTRACT FEATURES\n",
    "DATA = []\n",
    "if input():\n",
    "    finder = FileFinder(PATH_TO_FILES, ('au', ))\n",
    "    output = FileIO('data.json')\n",
    "    extractor = FeatureExtractor()\n",
    "    \n",
    "    while True:\n",
    "        curr = finder.get_next_file()\n",
    "        if not curr:\n",
    "            break\n",
    "        elif curr is ...:\n",
    "            continue\n",
    "        else:\n",
    "            curr_file, fs = load(curr, duration=7, sr=extractor.rate)\n",
    "            DATA.append(dict(\n",
    "                id=curr.name,\n",
    "                genre=curr.parent.name,\n",
    "                **dict(zip((f'mfcc{n}' for n in range(extractor.mfccs)), extractor.mfcc(curr_file))),\n",
    "                tempo=extractor.tempo(curr_file),\n",
    "                rms=extractor.rms(curr_file),\n",
    "                bandwidth=extractor.bandwidth(curr_file),\n",
    "                centroid=extractor.centroid(curr_file),\n",
    "                contrast=extractor.contrast(curr_file),\n",
    "                rolloff=extractor.rolloff(curr_file),\n",
    "                zcr=extractor.zcr(curr_file),\n",
    "                prediction=''\n",
    "            ))\n",
    "            # print(curr.parent.name, curr.name.split('.')[1])\n",
    "    \n",
    "    output.set_data(DATA)\n",
    "    print('Success')"
   ],
   "id": "827c0c96ddc79e6c",
<<<<<<< Updated upstream
   "outputs": [],
   "execution_count": 5
=======
   "outputs": [
    {
     "name": "stdout",
     "output_type": "stream",
     "text": [
      "Queue is empty\n",
      "Success\n"
     ]
    }
   ],
   "execution_count": 96
>>>>>>> Stashed changes
  },
  {
   "metadata": {
    "ExecuteTime": {
<<<<<<< Updated upstream
     "end_time": "2024-04-29T03:12:36.875004Z",
     "start_time": "2024-04-29T03:12:36.871113Z"
=======
     "end_time": "2024-04-29T04:06:25.676608Z",
     "start_time": "2024-04-29T04:06:25.673707Z"
>>>>>>> Stashed changes
    }
   },
   "cell_type": "code",
   "source": [
    "### OLD CODE\n",
    "\n",
    "# test_features = [*(f'mfcc{n}' for n in range(extractor.mfccs // 2)), 'zcr']\n",
    "# \n",
    "# frame = pd.DataFrame(data)\n",
    "# categories = frame[['genre']]\n",
    "# predictors = frame[test_features]\n",
    "# predictors.columns = test_features\n",
    "# \n",
    "# pre_train, pre_test, cat_train, cat_test = train_test_split(predictors, categories, test_size=0.33, random_state=5)\n",
    "# model = LogisticRegression(multi_class='multinomial', solver='newton-cg', max_iter=1000)\n",
    "# model.fit(pre_train, cat_train.genre)\n",
    "# predictions = model.predict(pre_test)\n",
    "# print(confusion_matrix(cat_test, predictions))\n",
    "# print(classification_report(cat_test, predictions))"
   ],
   "id": "eb34791ec127cf69",
   "outputs": [],
<<<<<<< Updated upstream
   "execution_count": 6
=======
   "execution_count": 97
>>>>>>> Stashed changes
  },
  {
   "metadata": {
    "ExecuteTime": {
<<<<<<< Updated upstream
     "end_time": "2024-04-29T03:12:36.904656Z",
     "start_time": "2024-04-29T03:12:36.876017Z"
=======
     "end_time": "2024-04-29T04:06:25.697088Z",
     "start_time": "2024-04-29T04:06:25.676608Z"
>>>>>>> Stashed changes
    }
   },
   "cell_type": "code",
   "source": [
    "### RUN THIS CELL TO GET THE DATA WITHOUT RE-EXTRACTING THE FEATURES \n",
    "DATA = FileIO('data.json').get_data()"
   ],
   "id": "74d846b70ea633b4",
   "outputs": [],
<<<<<<< Updated upstream
   "execution_count": 7
=======
   "execution_count": 98
  },
  {
   "metadata": {},
   "cell_type": "markdown",
   "source": [
    "# Model Selection:\n",
    "Our first model utilized only MFCCs, 0-9."
   ],
   "id": "89a2e9a40a24a804"
>>>>>>> Stashed changes
  },
  {
   "metadata": {
    "ExecuteTime": {
<<<<<<< Updated upstream
     "end_time": "2024-04-29T03:12:37.116100Z",
     "start_time": "2024-04-29T03:12:36.905665Z"
=======
     "end_time": "2024-04-29T04:23:29.646997Z",
     "start_time": "2024-04-29T04:23:29.463722Z"
    }
   },
   "cell_type": "code",
   "source": [
    "# Model 1\n",
    "m1 = Model(DATA,[*(f'mfcc{n}' for n in range(10))])\n",
    "m1.generate_model()\n",
    "print(m1.get_report())\n",
    "get_heatmap(m1.get_matrix())"
   ],
   "id": "26cb8c970c7f2e96",
   "outputs": [
    {
     "name": "stdout",
     "output_type": "stream",
     "text": [
      "              precision    recall  f1-score   support\n",
      "\n",
      "   classical       0.83      0.62      0.71        16\n",
      "      hiphop       0.69      0.55      0.61        20\n",
      "        jazz       0.62      0.91      0.74        11\n",
      "         pop       0.68      0.95      0.79        20\n",
      "      reggae       0.55      0.38      0.44        16\n",
      "\n",
      "    accuracy                           0.67        83\n",
      "   macro avg       0.67      0.68      0.66        83\n",
      "weighted avg       0.68      0.67      0.66        83\n",
      "\n"
     ]
    },
    {
     "data": {
      "text/plain": [
       "<Figure size 640x480 with 2 Axes>"
      ],
      "image/png": "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"
     },
     "metadata": {},
     "output_type": "display_data"
    }
   ],
   "execution_count": 129
  },
  {
   "metadata": {},
   "cell_type": "markdown",
   "source": "Model 1 did good, with 0.67 accuracy, but we felt we could do better if we included other features, so we went on to include RMS as a part of our feature vector.",
   "id": "6834796cf7a86dfa"
  },
  {
   "metadata": {
    "ExecuteTime": {
     "end_time": "2024-04-29T04:23:45.367308Z",
     "start_time": "2024-04-29T04:23:45.346141Z"
    }
   },
   "cell_type": "code",
   "source": [
    "# Model 2\n",
    "m2 = Model(DATA,[*(f'mfcc{n}' for n in range(10)), 'rms'])\n",
    "m2.generate_model()\n",
    "print(m2.get_report())"
   ],
   "id": "4bee9a0a11d3f884",
   "outputs": [
    {
     "name": "stdout",
     "output_type": "stream",
     "text": [
      "              precision    recall  f1-score   support\n",
      "\n",
      "   classical       0.82      0.56      0.67        16\n",
      "      hiphop       0.71      0.60      0.65        20\n",
      "        jazz       0.59      0.91      0.71        11\n",
      "         pop       0.70      0.95      0.81        20\n",
      "      reggae       0.64      0.44      0.52        16\n",
      "\n",
      "    accuracy                           0.69        83\n",
      "   macro avg       0.69      0.69      0.67        83\n",
      "weighted avg       0.70      0.69      0.67        83\n",
      "\n"
     ]
    }
   ],
   "execution_count": 130
  },
  {
   "metadata": {},
   "cell_type": "markdown",
   "source": "This created a slight improvement over just MFCCs, but not much. We moved on to also include the Zero Crossing Rate in our next model.",
   "id": "85cef816f388e36c"
  },
  {
   "metadata": {
    "ExecuteTime": {
     "end_time": "2024-04-29T04:26:51.636950Z",
     "start_time": "2024-04-29T04:26:51.603793Z"
    }
   },
   "cell_type": "code",
   "source": [
    "# Model 3\n",
    "m3 = Model(DATA,[*(f'mfcc{n}' for n in range(10)), 'rms', 'zcr'])\n",
    "m3.generate_model()\n",
    "print(m3.get_report())"
   ],
   "id": "c9cce2b8dde2dee5",
   "outputs": [
    {
     "name": "stdout",
     "output_type": "stream",
     "text": [
      "              precision    recall  f1-score   support\n",
      "\n",
      "   classical       0.75      0.56      0.64        16\n",
      "      hiphop       0.71      0.60      0.65        20\n",
      "        jazz       0.60      0.82      0.69        11\n",
      "         pop       0.69      0.90      0.78        20\n",
      "      reggae       0.62      0.50      0.55        16\n",
      "\n",
      "    accuracy                           0.67        83\n",
      "   macro avg       0.67      0.68      0.66        83\n",
      "weighted avg       0.68      0.67      0.67        83\n",
      "\n"
     ]
    }
   ],
   "execution_count": 138
  },
  {
   "metadata": {},
   "cell_type": "markdown",
   "source": "This only confused the results. Looking at the box plot of the zero crossing rates over the actual genres, we can see that many of the genres have similar distributions of ZCRs, which was likely why it's inclusion in the model was hurting the accuracy of the predictions.",
   "id": "8e8272db3c62989c"
  },
  {
   "metadata": {
    "ExecuteTime": {
     "end_time": "2024-04-29T04:32:29.958677Z",
     "start_time": "2024-04-29T04:32:29.839214Z"
    }
   },
   "cell_type": "code",
   "source": "box_genres(m3.df, 'zcr')",
   "id": "bdbf281b5bcac411",
   "outputs": [
    {
     "data": {
      "text/plain": [
       "<Figure size 1000x600 with 1 Axes>"
      ],
      "image/png": "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"
     },
     "metadata": {},
     "output_type": "display_data"
    }
   ],
   "execution_count": 141
  },
  {
   "metadata": {
    "ExecuteTime": {
     "end_time": "2024-04-29T04:26:48.495319Z",
     "start_time": "2024-04-29T04:26:48.460607Z"
    }
   },
   "cell_type": "code",
   "source": [
    "# Final Model\n",
    "mFinal = Model(DATA,[*(f'mfcc{n}' for n in range(10)), 'tempo', 'rms', 'bandwidth', \n",
    "                 'centroid', 'contrast', 'rolloff'])\n",
    "mFinal.generate_model()\n",
    "FileIO(PATH_TO_JSON).set_data_from_frame(mFinal.df)\n",
    "print(mFinal.get_report())"
   ],
   "id": "7749a8a50961e51e",
   "outputs": [
    {
     "name": "stdout",
     "output_type": "stream",
     "text": [
      "              precision    recall  f1-score   support\n",
      "\n",
      "   classical       0.80      0.75      0.77        16\n",
      "      hiphop       0.78      0.70      0.74        20\n",
      "        jazz       0.82      0.82      0.82        11\n",
      "         pop       0.73      0.95      0.83        20\n",
      "      reggae       0.77      0.62      0.69        16\n",
      "\n",
      "    accuracy                           0.77        83\n",
      "   macro avg       0.78      0.77      0.77        83\n",
      "weighted avg       0.77      0.77      0.77        83\n",
      "\n"
     ]
    }
   ],
   "execution_count": 137
  },
  {
   "metadata": {
    "ExecuteTime": {
     "end_time": "2024-04-29T04:06:26.244954Z",
     "start_time": "2024-04-29T04:06:25.889024Z"
>>>>>>> Stashed changes
    }
   },
   "cell_type": "code",
   "source": [
    "### EXAMPLE MODEL\n",
    "\n",
    "\n",
    "\n",
    "# Change the list in this constructor to change the features analyzed (names must match JSON file)\n",
    "mE = Model(DATA,\n",
    "           [*(f'mfcc{n}' for n in range(10)), \n",
    "            'contrast',\n",
    "            'zcr']\n",
    "           )\n",
    "\n",
    "# Add parameters to change model functionality\n",
    "mE.generate_model()\n",
    "print(mE.get_matrix())\n",
    "print(mE.get_report())"
   ],
   "id": "49328fcf388de8b6",
   "outputs": [
    {
     "name": "stdout",
     "output_type": "stream",
     "text": [
      "[[11  0  2  0  3]\n",
      " [ 0 11  0  6  3]\n",
      " [ 2  0  9  0  0]\n",
      " [ 1  3  0 13  3]\n",
      " [ 1  4  3  1  7]]\n",
      "              precision    recall  f1-score   support\n",
      "\n",
      "   classical       0.73      0.69      0.71        16\n",
      "      hiphop       0.61      0.55      0.58        20\n",
      "        jazz       0.64      0.82      0.72        11\n",
      "         pop       0.65      0.65      0.65        20\n",
      "      reggae       0.44      0.44      0.44        16\n",
      "\n",
      "    accuracy                           0.61        83\n",
      "   macro avg       0.61      0.63      0.62        83\n",
      "weighted avg       0.61      0.61      0.61        83\n",
      "\n"
     ]
    }
   ],
<<<<<<< Updated upstream
   "execution_count": 8
=======
   "execution_count": 100
>>>>>>> Stashed changes
  },
  {
   "metadata": {
    "ExecuteTime": {
<<<<<<< Updated upstream
     "end_time": "2024-04-29T03:12:37.194466Z",
     "start_time": "2024-04-29T03:12:37.117109Z"
=======
     "end_time": "2024-04-29T04:06:26.584795Z",
     "start_time": "2024-04-29T04:06:26.245965Z"
>>>>>>> Stashed changes
    }
   },
   "cell_type": "code",
   "source": [
    "# model 1, 5 mfccs\n",
    "m1 = Model(DATA, [*(f'mfcc{n}' for n in range(5))])\n",
    "\n",
    "# Add parameters to change model functionality\n",
    "m1.generate_model()\n",
    "print(m1.get_matrix())\n",
    "print(m1.get_report())\n",
    "# does good with classical and reggae classification"
   ],
   "id": "6760aaf110874ac1",
   "outputs": [
    {
     "name": "stdout",
     "output_type": "stream",
     "text": [
      "[[10  2  3  1  0]\n",
      " [ 0  9  0  9  2]\n",
      " [ 2  0  9  0  0]\n",
      " [ 0  1  0 18  1]\n",
      " [ 1  3  2  1  9]]\n",
      "              precision    recall  f1-score   support\n",
      "\n",
      "   classical       0.77      0.62      0.69        16\n",
      "      hiphop       0.60      0.45      0.51        20\n",
      "        jazz       0.64      0.82      0.72        11\n",
      "         pop       0.62      0.90      0.73        20\n",
      "      reggae       0.75      0.56      0.64        16\n",
      "\n",
      "    accuracy                           0.66        83\n",
      "   macro avg       0.68      0.67      0.66        83\n",
      "weighted avg       0.67      0.66      0.65        83\n",
      "\n"
     ]
    }
   ],
<<<<<<< Updated upstream
   "execution_count": 9
=======
   "execution_count": 101
>>>>>>> Stashed changes
  },
  {
   "metadata": {
    "ExecuteTime": {
<<<<<<< Updated upstream
     "end_time": "2024-04-29T03:12:37.362114Z",
     "start_time": "2024-04-29T03:12:37.196480Z"
    }
   },
   "cell_type": "code",
   "source": [
    "# model 2, 10 mfccs\n",
    "m2 = Model(DATA, [*(f'mfcc{n}' for n in range(10))])\n",
    "\n",
    "# Add parameters to change model functionality\n",
    "m2.generate_model()\n",
    "print(m2.get_matrix())\n",
    "print(m2.get_report())\n",
    "# significantly worse at reggae, and overall"
   ],
   "id": "193fa051eb9b5f55",
   "outputs": [
    {
     "name": "stdout",
     "output_type": "stream",
     "text": [
      "[[11  0  2  0  3]\n",
      " [ 0 10  1  6  3]\n",
      " [ 3  0  8  0  0]\n",
      " [ 0  4  0 14  2]\n",
      " [ 1  6  2  1  6]]\n",
      "              precision    recall  f1-score   support\n",
      "\n",
      "   classical       0.73      0.69      0.71        16\n",
      "      hiphop       0.50      0.50      0.50        20\n",
      "        jazz       0.62      0.73      0.67        11\n",
      "         pop       0.67      0.70      0.68        20\n",
      "      reggae       0.43      0.38      0.40        16\n",
      "\n",
      "    accuracy                           0.59        83\n",
      "   macro avg       0.59      0.60      0.59        83\n",
      "weighted avg       0.59      0.59      0.59        83\n",
      "\n"
     ]
    }
   ],
   "execution_count": 10
  },
  {
   "metadata": {
    "ExecuteTime": {
     "end_time": "2024-04-29T03:12:37.403782Z",
     "start_time": "2024-04-29T03:12:37.363123Z"
    }
   },
   "cell_type": "code",
   "source": [
    "# model 3, first 3 mfccs, skipping zero\n",
    "m3 = Model(DATA, [*(f'mfcc{n}' for n in range(1,4))])\n",
    "\n",
    "# Add parameters to change model functionality\n",
    "m3.generate_model()\n",
    "print(m3.get_matrix())\n",
    "print(m3.get_report())\n",
    "# 0.70 accuracy, nice!"
   ],
   "id": "ab2542c72507515",
   "outputs": [
    {
     "name": "stdout",
     "output_type": "stream",
     "text": [
      "[[14  1  1  0  0]\n",
      " [ 1 10  0  6  3]\n",
      " [ 3  0  6  0  2]\n",
      " [ 0  1  0 18  1]\n",
      " [ 1  2  3  0 10]]\n",
      "              precision    recall  f1-score   support\n",
      "\n",
      "   classical       0.74      0.88      0.80        16\n",
      "      hiphop       0.71      0.50      0.59        20\n",
      "        jazz       0.60      0.55      0.57        11\n",
      "         pop       0.75      0.90      0.82        20\n",
      "      reggae       0.62      0.62      0.62        16\n",
      "\n",
      "    accuracy                           0.70        83\n",
      "   macro avg       0.69      0.69      0.68        83\n",
      "weighted avg       0.69      0.70      0.69        83\n",
      "\n"
     ]
    }
   ],
   "execution_count": 11
  },
  {
   "metadata": {
    "ExecuteTime": {
     "end_time": "2024-04-29T03:12:37.452144Z",
     "start_time": "2024-04-29T03:12:37.404793Z"
    }
   },
   "cell_type": "code",
   "source": [
    "# model 4, adding rms to the model\n",
    "m4 = Model(DATA, [*(f'mfcc{n}' for n in range(1,4)), 'rms'])\n",
    "\n",
    "# Add parameters to change model functionality\n",
    "m4.generate_model()\n",
    "print(m4.get_matrix())\n",
    "print(m4.get_report())\n",
    "# slight improvement, may keep"
   ],
   "id": "3bd1b69f1577f074",
   "outputs": [
    {
     "name": "stdout",
     "output_type": "stream",
     "text": [
      "[[14  1  1  0  0]\n",
      " [ 1 11  0  6  2]\n",
      " [ 3  0  6  0  2]\n",
      " [ 0  1  0 18  1]\n",
      " [ 1  2  3  0 10]]\n",
      "              precision    recall  f1-score   support\n",
      "\n",
      "   classical       0.74      0.88      0.80        16\n",
      "      hiphop       0.73      0.55      0.63        20\n",
      "        jazz       0.60      0.55      0.57        11\n",
      "         pop       0.75      0.90      0.82        20\n",
      "      reggae       0.67      0.62      0.65        16\n",
      "\n",
      "    accuracy                           0.71        83\n",
      "   macro avg       0.70      0.70      0.69        83\n",
      "weighted avg       0.71      0.71      0.70        83\n",
      "\n"
     ]
    }
   ],
   "execution_count": 12
  },
  {
   "metadata": {
    "ExecuteTime": {
     "end_time": "2024-04-29T03:12:37.584131Z",
     "start_time": "2024-04-29T03:12:37.453155Z"
    }
   },
   "cell_type": "code",
   "source": [
    "# model 5, adding spectral centroid to the model\n",
    "m5 = Model(DATA, [*(f'mfcc{n}' for n in range(1,4)), 'rms', 'centroid'])\n",
    "\n",
    "# Add parameters to change model functionality\n",
    "m5.generate_model()\n",
    "print(m5.get_matrix())\n",
    "print(m5.get_report())\n",
    "# adding centroid significantly damages the models ability to correctly identify jazz, pop, and reggae"
   ],
   "id": "3bc8c07602ebebc4",
   "outputs": [
    {
     "name": "stdout",
     "output_type": "stream",
     "text": [
      "[[11  0  2  1  2]\n",
      " [ 0  9  0  7  4]\n",
      " [ 4  0  5  0  2]\n",
      " [ 0  1  1 18  0]\n",
      " [ 0  2  5  1  8]]\n",
      "              precision    recall  f1-score   support\n",
      "\n",
      "   classical       0.73      0.69      0.71        16\n",
      "      hiphop       0.75      0.45      0.56        20\n",
      "        jazz       0.38      0.45      0.42        11\n",
      "         pop       0.67      0.90      0.77        20\n",
      "      reggae       0.50      0.50      0.50        16\n",
      "\n",
      "    accuracy                           0.61        83\n",
      "   macro avg       0.61      0.60      0.59        83\n",
      "weighted avg       0.63      0.61      0.61        83\n",
      "\n"
     ]
    }
   ],
   "execution_count": 13
  },
  {
   "metadata": {
    "ExecuteTime": {
     "end_time": "2024-04-29T03:12:37.717058Z",
     "start_time": "2024-04-29T03:12:37.585247Z"
    }
   },
   "cell_type": "code",
   "source": [
    "# model 6, bandwidth\n",
    "m5 = Model(DATA, [*(f'mfcc{n}' for n in range(1,4)), 'rms', 'bandwidth'])\n",
    "\n",
    "# Add parameters to change model functionality\n",
    "m5.generate_model()\n",
    "print(m5.get_matrix())\n",
    "print(m5.get_report())\n",
    "# bandwidth hurts classical and hiphop"
   ],
   "id": "553330efa40698ee",
   "outputs": [
    {
     "name": "stdout",
     "output_type": "stream",
     "text": [
      "[[ 9  1  4  0  2]\n",
      " [ 1  9  0  7  3]\n",
      " [ 4  0  6  0  1]\n",
      " [ 0  2  0 18  0]\n",
      " [ 0  4  2  1  9]]\n",
      "              precision    recall  f1-score   support\n",
      "\n",
      "   classical       0.64      0.56      0.60        16\n",
      "      hiphop       0.56      0.45      0.50        20\n",
      "        jazz       0.50      0.55      0.52        11\n",
      "         pop       0.69      0.90      0.78        20\n",
      "      reggae       0.60      0.56      0.58        16\n",
      "\n",
      "    accuracy                           0.61        83\n",
      "   macro avg       0.60      0.60      0.60        83\n",
      "weighted avg       0.61      0.61      0.61        83\n",
      "\n"
     ]
    }
   ],
   "execution_count": 14
  },
  {
   "metadata": {
    "ExecuteTime": {
     "end_time": "2024-04-29T03:12:37.780501Z",
     "start_time": "2024-04-29T03:12:37.718065Z"
    }
   },
   "cell_type": "code",
   "source": [
    "# model 7, contrast\n",
    "m7 = Model(DATA, [*(f'mfcc{n}' for n in range(1,4)), 'rms', 'contrast'])\n",
    "\n",
    "# Add parameters to change model functionality\n",
    "m7.generate_model()\n",
    "print(m7.get_matrix())\n",
    "print(m7.get_report())\n",
    "# non beneficial"
   ],
   "id": "fc21713197d46782",
   "outputs": [
    {
     "name": "stdout",
     "output_type": "stream",
     "text": [
      "[[13  2  1  0  0]\n",
      " [ 0 10  0  7  3]\n",
      " [ 4  0  6  0  1]\n",
      " [ 0  1  0 18  1]\n",
      " [ 1  3  3  1  8]]\n",
      "              precision    recall  f1-score   support\n",
      "\n",
      "   classical       0.72      0.81      0.76        16\n",
      "      hiphop       0.62      0.50      0.56        20\n",
      "        jazz       0.60      0.55      0.57        11\n",
      "         pop       0.69      0.90      0.78        20\n",
      "      reggae       0.62      0.50      0.55        16\n",
      "\n",
      "    accuracy                           0.66        83\n",
      "   macro avg       0.65      0.65      0.65        83\n",
      "weighted avg       0.65      0.66      0.65        83\n",
      "\n"
     ]
    }
   ],
   "execution_count": 15
  },
  {
   "metadata": {
    "ExecuteTime": {
     "end_time": "2024-04-29T03:12:37.906038Z",
     "start_time": "2024-04-29T03:12:37.781510Z"
    }
   },
   "cell_type": "code",
   "source": [
    "# model 8, rolloff\n",
    "m8 = Model(DATA, [*(f'mfcc{n}' for n in range(1,4)), 'rms', 'rolloff'])\n",
    "\n",
    "# Add parameters to change model functionality\n",
    "m8.generate_model()\n",
    "print(m8.get_matrix())\n",
    "print(m8.get_report())\n",
    "# rolloff hurt jazz detection significantly"
   ],
   "id": "10f72b1904ade0c5",
   "outputs": [
    {
     "name": "stdout",
     "output_type": "stream",
     "text": [
      "[[ 9  0  4  1  2]\n",
      " [ 0  9  0  7  4]\n",
      " [ 4  0  5  0  2]\n",
      " [ 0  1  1 18  0]\n",
      " [ 0  4  4  1  7]]\n",
      "              precision    recall  f1-score   support\n",
      "\n",
      "   classical       0.69      0.56      0.62        16\n",
      "      hiphop       0.64      0.45      0.53        20\n",
      "        jazz       0.36      0.45      0.40        11\n",
      "         pop       0.67      0.90      0.77        20\n",
      "      reggae       0.47      0.44      0.45        16\n",
      "\n",
      "    accuracy                           0.58        83\n",
      "   macro avg       0.57      0.56      0.55        83\n",
      "weighted avg       0.59      0.58      0.57        83\n",
      "\n"
     ]
    }
   ],
   "execution_count": 16
  },
  {
   "metadata": {
    "ExecuteTime": {
     "end_time": "2024-04-29T03:12:37.955010Z",
     "start_time": "2024-04-29T03:12:37.907049Z"
    }
   },
   "cell_type": "code",
   "source": [
    "# model 9, zero crossing rate\n",
    "m9 = Model(DATA, [*(f'mfcc{n}' for n in range(1,4)), 'rms', 'zcr'])\n",
    "\n",
    "# Add parameters to change model functionality\n",
    "m9.generate_model()\n",
    "print(m9.get_matrix())\n",
    "print(m9.get_report())\n",
    "# no real effect not attributed to mfcc 1-4 and rms"
   ],
   "id": "9021fe79d12fe0ae",
   "outputs": [
    {
     "name": "stdout",
     "output_type": "stream",
     "text": [
      "[[14  1  1  0  0]\n",
      " [ 1 11  0  6  2]\n",
      " [ 3  0  6  0  2]\n",
      " [ 0  1  0 18  1]\n",
      " [ 1  2  3  0 10]]\n",
      "              precision    recall  f1-score   support\n",
      "\n",
      "   classical       0.74      0.88      0.80        16\n",
      "      hiphop       0.73      0.55      0.63        20\n",
      "        jazz       0.60      0.55      0.57        11\n",
      "         pop       0.75      0.90      0.82        20\n",
      "      reggae       0.67      0.62      0.65        16\n",
      "\n",
      "    accuracy                           0.71        83\n",
      "   macro avg       0.70      0.70      0.69        83\n",
      "weighted avg       0.71      0.71      0.70        83\n",
      "\n"
     ]
    }
   ],
   "execution_count": 17
  },
  {
   "metadata": {
    "ExecuteTime": {
     "end_time": "2024-04-29T03:12:38.192829Z",
     "start_time": "2024-04-29T03:12:37.956022Z"
    }
   },
   "cell_type": "code",
   "source": [
    "#model 10, including another mfcc and tempo, contrast, and rolloff\n",
    "m10 = Model(DATA, [*(f'mfcc{n}' for n in range(1,5)), 'rms', 'tempo', 'contrast', 'rolloff'])\n",
    "\n",
    "# Add parameters to change model functionality\n",
    "m10.generate_model()\n",
    "print(m10.get_matrix())\n",
    "print(m10.get_report())\n",
    "# Adding"
   ],
   "id": "f028eda14d07e515",
   "outputs": [
    {
     "name": "stdout",
     "output_type": "stream",
     "text": [
      "[[12  0  1  0  3]\n",
      " [ 0 11  0  7  2]\n",
      " [ 4  0  7  0  0]\n",
      " [ 0  1  0 18  1]\n",
      " [ 0  1  3  1 11]]\n",
      "              precision    recall  f1-score   support\n",
      "\n",
      "   classical       0.75      0.75      0.75        16\n",
      "      hiphop       0.85      0.55      0.67        20\n",
      "        jazz       0.64      0.64      0.64        11\n",
      "         pop       0.69      0.90      0.78        20\n",
      "      reggae       0.65      0.69      0.67        16\n",
      "\n",
      "    accuracy                           0.71        83\n",
      "   macro avg       0.71      0.70      0.70        83\n",
      "weighted avg       0.72      0.71      0.71        83\n",
      "\n"
     ]
    }
   ],
   "execution_count": 18
  },
  {
   "metadata": {
    "ExecuteTime": {
     "end_time": "2024-04-29T03:12:38.447994Z",
     "start_time": "2024-04-29T03:12:38.193841Z"
    }
   },
   "cell_type": "code",
   "source": [
    "# final contenders\n",
    "# mF1, just MFCCs 1, 2, and 3, and the RMS.\n",
    "mF1 = Model(DATA, [*(f'mfcc{n}' for n in range(1,4)), 'rms'])\n",
    "mF1.generate_model()\n",
    "print(mF1.get_matrix())\n",
    "print(mF1.get_report())\n",
    "\n",
    "#mF2, MFCCs 1-4, RMS, Tempo, Spectral Contrast, and Spectral Rolloff\n",
    "mF2 = Model(DATA, [*(f'mfcc{n}' for n in range(1,5)), 'rms', 'tempo', 'contrast', 'rolloff'])\n",
    "mF2.generate_model()\n",
    "print(mF2.get_matrix())\n",
    "print(mF2.get_report())\n",
    "\n",
    "# mF1 being better at pop is weighing the results"
   ],
   "id": "d7ce8606d97cb5ba",
   "outputs": [
    {
     "name": "stdout",
     "output_type": "stream",
     "text": [
      "[[14  1  1  0  0]\n",
      " [ 1 11  0  6  2]\n",
      " [ 3  0  6  0  2]\n",
      " [ 0  1  0 18  1]\n",
      " [ 1  2  3  0 10]]\n",
      "              precision    recall  f1-score   support\n",
      "\n",
      "   classical       0.74      0.88      0.80        16\n",
      "      hiphop       0.73      0.55      0.63        20\n",
      "        jazz       0.60      0.55      0.57        11\n",
      "         pop       0.75      0.90      0.82        20\n",
      "      reggae       0.67      0.62      0.65        16\n",
      "\n",
      "    accuracy                           0.71        83\n",
      "   macro avg       0.70      0.70      0.69        83\n",
      "weighted avg       0.71      0.71      0.70        83\n",
      "\n",
      "[[12  0  1  0  3]\n",
      " [ 0 11  0  7  2]\n",
      " [ 4  0  7  0  0]\n",
      " [ 0  1  0 18  1]\n",
      " [ 0  1  3  1 11]]\n",
      "              precision    recall  f1-score   support\n",
      "\n",
      "   classical       0.75      0.75      0.75        16\n",
      "      hiphop       0.85      0.55      0.67        20\n",
      "        jazz       0.64      0.64      0.64        11\n",
      "         pop       0.69      0.90      0.78        20\n",
      "      reggae       0.65      0.69      0.67        16\n",
      "\n",
      "    accuracy                           0.71        83\n",
      "   macro avg       0.71      0.70      0.70        83\n",
      "weighted avg       0.72      0.71      0.71        83\n",
      "\n"
     ]
    }
   ],
   "execution_count": 19
  },
  {
   "metadata": {
    "ExecuteTime": {
     "end_time": "2024-04-29T03:12:38.450713Z",
     "start_time": "2024-04-29T03:12:38.449006Z"
=======
     "end_time": "2024-04-29T04:06:26.588341Z",
     "start_time": "2024-04-29T04:06:26.585800Z"
>>>>>>> Stashed changes
    }
   },
   "cell_type": "code",
   "source": "",
<<<<<<< Updated upstream
   "id": "59b0d6ed5c077afd",
   "outputs": [],
   "execution_count": 19
  },
  {
   "metadata": {
    "ExecuteTime": {
     "end_time": "2024-04-29T03:12:38.453722Z",
     "start_time": "2024-04-29T03:12:38.451726Z"
    }
   },
   "cell_type": "code",
   "source": "",
   "id": "ebd4d54421910076",
   "outputs": [],
   "execution_count": 19
  },
  {
   "metadata": {
    "ExecuteTime": {
     "end_time": "2024-04-29T03:12:38.456737Z",
     "start_time": "2024-04-29T03:12:38.454745Z"
    }
   },
   "cell_type": "code",
   "source": "",
   "id": "163fc1fad9af6d9e",
   "outputs": [],
   "execution_count": 19
  },
  {
   "metadata": {
    "ExecuteTime": {
     "end_time": "2024-04-29T03:12:38.459979Z",
     "start_time": "2024-04-29T03:12:38.457751Z"
    }
   },
   "cell_type": "code",
   "source": "",
   "id": "dd1b70e9f21f990c",
   "outputs": [],
   "execution_count": 19
=======
   "id": "4a7b5b23bdbd40f2",
   "outputs": [],
   "execution_count": 101
>>>>>>> Stashed changes
  }
 ],
 "metadata": {
  "kernelspec": {
   "display_name": "Python 3",
   "language": "python",
   "name": "python3"
  },
  "language_info": {
   "codemirror_mode": {
    "name": "ipython",
    "version": 2
   },
   "file_extension": ".py",
   "mimetype": "text/x-python",
   "name": "python",
   "nbconvert_exporter": "python",
   "pygments_lexer": "ipython2",
   "version": "2.7.6"
  }
 },
 "nbformat": 4,
 "nbformat_minor": 5
}
