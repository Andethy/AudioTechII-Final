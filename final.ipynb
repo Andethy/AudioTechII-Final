{
 "cells": [
  {
   "cell_type": "code",
   "id": "initial_id",
   "metadata": {
    "collapsed": true,
    "ExecuteTime": {
     "end_time": "2024-04-29T03:12:35.029608Z",
     "start_time": "2024-04-29T03:12:29.352294Z"
    }
   },
   "source": [
    "from __future__ import annotations\n",
    "\n",
    "import json\n",
    "import os\n",
    "from pathlib import Path\n",
    "from queue import Queue\n",
    "\n",
    "import numpy as np\n",
    "import pandas as pd\n",
    "from librosa import load, feature\n",
    "from sklearn.linear_model import LogisticRegression\n",
    "from sklearn.metrics import confusion_matrix, classification_report\n",
    "from sklearn.model_selection import train_test_split\n",
    "\n",
    "PATH_TO_FILES = Path('files/')"
   ],
   "outputs": [],
   "execution_count": 1
  },
  {
   "metadata": {
    "ExecuteTime": {
     "end_time": "2024-04-29T03:12:35.038735Z",
     "start_time": "2024-04-29T03:12:35.030917Z"
    }
   },
   "cell_type": "code",
   "source": [
    "class FileFinder:\n",
    "    suffixes: set[str]\n",
    "    _queue: Queue[Path]\n",
    "\n",
    "    def __init__(self, root, suffixes):\n",
    "        self.root = Path(root)\n",
    "        self._queue = Queue()\n",
    "        self.suffixes = suffixes\n",
    "\n",
    "        self._queue.put(self.root)\n",
    "\n",
    "    def get_next_file(self):\n",
    "        if self._queue.empty():\n",
    "            print(\"Queue is empty\")\n",
    "            return None\n",
    "\n",
    "        res = self._queue.get()\n",
    "        if res.is_dir():\n",
    "            for child in res.iterdir():\n",
    "                if child.suffix[1:].lower() in self.suffixes or child.is_dir():\n",
    "                    # print(f'Added {child.name} to queue [{\"folder\" if child.is_dir() else child.suffix}]')\n",
    "                    self._queue.put(child)\n",
    "            return Ellipsis\n",
    "        else:\n",
    "            return res if res.suffix[1:] in self.suffixes else None\n",
    "\n",
    "    def reset(self):\n",
    "        self._queue = Queue()\n",
    "        self._queue.put(self.root)\n",
    "\n",
    "    def get_rel_path(self, file: Path):\n",
    "        return Path(os.path.relpath(file.parent, self.root).__str__())\n",
    "\n",
    "    def get_full_path(self, file: Path):\n",
    "        return self.root.joinpath(file)\n",
    "\n",
    "class FileIO:\n",
    "    _data: list[dict, ...]\n",
    "\n",
    "    def __init__(self, path):\n",
    "        self.path = Path(path)\n",
    "        self._data = ...\n",
    "    \n",
    "    def get_data(self):\n",
    "        with open(self.path) as json_file:\n",
    "            self._data = json.load(json_file)\n",
    "        return self._data\n",
    "    \n",
    "    def set_data(self, data):\n",
    "        if type(data) is list:\n",
    "            self._data = data\n",
    "            with open(self.path, 'w') as json_file:\n",
    "                json_file.write(json.dumps(self._data, sort_keys=False, indent=4))\n",
    "        "
   ],
   "id": "5f5eeeb264f2ef48",
   "outputs": [],
   "execution_count": 2
  },
  {
   "metadata": {
    "ExecuteTime": {
     "end_time": "2024-04-29T03:12:35.052715Z",
     "start_time": "2024-04-29T03:12:35.039741Z"
    }
   },
   "cell_type": "code",
   "source": [
    "#TODO: standardize/normalize features\n",
    "\n",
    "class FeatureExtractor:\n",
    "    def __init__(self):\n",
    "        self.mfccs = 13\n",
    "        self.rate = 22050\n",
    "    \n",
    "    def not_static(self):\n",
    "        \"\"\"\n",
    "        Method to ensure all the methods cannot be static.\n",
    "        \"\"\"\n",
    "        pass\n",
    "    \n",
    "    def tempo(self, audio):\n",
    "        return np.mean(feature.tempo(y=audio, sr=self.rate).tolist())\n",
    "    \n",
    "    def rms(self, audio):\n",
    "        self.not_static()\n",
    "        return np.mean(feature.rms(y=audio).tolist())\n",
    "    \n",
    "    def mfcc(self, audio):\n",
    "        return np.mean(feature.mfcc(y=audio, sr=self.rate, n_mfcc=self.mfccs).tolist(), axis=1)\n",
    "    \n",
    "    def bandwidth(self, audio):\n",
    "        return np.mean(feature.spectral_bandwidth(y=audio, sr=self.rate).tolist())\n",
    "    \n",
    "    def centroid(self, audio):\n",
    "        return np.mean(feature.spectral_centroid(y=audio, sr=self.rate).tolist())\n",
    "    \n",
    "    def contrast(self, audio):\n",
    "        return np.mean(feature.spectral_contrast(y=audio, sr=self.rate).tolist())\n",
    "    \n",
    "    def rolloff(self, audio):\n",
    "        return np.mean(feature.spectral_rolloff(y=audio, sr=self.rate).tolist())\n",
    "    \n",
    "    def zcr(self, audio):\n",
    "        self.not_static()\n",
    "        return np.mean(feature.zero_crossing_rate(y=audio).tolist())\n",
    "    "
   ],
   "id": "f4f4ebbde3d31332",
   "outputs": [],
   "execution_count": 3
  },
  {
   "metadata": {
    "ExecuteTime": {
     "end_time": "2024-04-29T03:12:35.062141Z",
     "start_time": "2024-04-29T03:12:35.054088Z"
    }
   },
   "cell_type": "code",
   "source": [
    "class Model:\n",
    "    def __init__(self, dt: list, features):\n",
    "        self.dt = dt\n",
    "        self.df = pd.DataFrame(dt)\n",
    "        self.features = features\n",
    "        self.categories = self.df[['genre']]\n",
    "        self.predictors = self.df[features]\n",
    "        self.predictors.columns = features\n",
    "        self.model = ...\n",
    "        self.split_data = ...\n",
    "        self.res = ...\n",
    "    \n",
    "    def update_dataframe(self, df):\n",
    "        self.df = df\n",
    "    \n",
    "    def generate_model(self, test_size=0.33, solver='newton-cg', iters=1000):\n",
    "        self.split_data = train_test_split(self.predictors, self.categories, test_size=test_size, random_state=5)\n",
    "        pre_train, pre_test, cat_train, cat_test = self.split_data\n",
    "        self.model = LogisticRegression(multi_class='multinomial', solver=solver, max_iter=iters)\n",
    "        self.model.fit(pre_train, cat_train.genre)\n",
    "        self.res = self.model.predict(pre_test)\n",
    "        \n",
    "    def get_res(self):\n",
    "        return self.res\n",
    "    \n",
    "    def get_matrix(self):\n",
    "        return confusion_matrix(self.split_data[3], self.res)\n",
    "    \n",
    "    def get_report(self):\n",
    "        return classification_report(self.split_data[3], self.res)"
   ],
   "id": "fc06a5bad4ebf028",
   "outputs": [],
   "execution_count": 4
  },
  {
   "metadata": {
    "ExecuteTime": {
     "end_time": "2024-04-29T03:12:36.870105Z",
     "start_time": "2024-04-29T03:12:35.063150Z"
    }
   },
   "cell_type": "code",
   "source": [
    "### ONLY RUN THIS CELL TO EXTRACT FEATURES\n",
    "DATA = []\n",
    "if input():\n",
    "    finder = FileFinder(PATH_TO_FILES, ('au', ))\n",
    "    output = FileIO('data.json')\n",
    "    extractor = FeatureExtractor()\n",
    "    \n",
    "    while True:\n",
    "        curr = finder.get_next_file()\n",
    "        if not curr:\n",
    "            break\n",
    "        elif curr is ...:\n",
    "            continue\n",
    "        else:\n",
    "            curr_file, fs = load(curr, duration=7, sr=extractor.rate)\n",
    "            DATA.append(dict(\n",
    "                id=curr.name,\n",
    "                genre=curr.parent.name,\n",
    "                **dict(zip((f'mfcc{n}' for n in range(extractor.mfccs)), extractor.mfcc(curr_file))),\n",
    "                tempo=extractor.tempo(curr_file),\n",
    "                rms=extractor.rms(curr_file),\n",
    "                bandwidth=extractor.bandwidth(curr_file),\n",
    "                centroid=extractor.centroid(curr_file),\n",
    "                contrast=extractor.contrast(curr_file),\n",
    "                rolloff=extractor.rolloff(curr_file),\n",
    "                zcr=extractor.zcr(curr_file),\n",
    "                prediction=''\n",
    "            ))\n",
    "            # print(curr.parent.name, curr.name.split('.')[1])\n",
    "    \n",
    "    output.set_data(DATA)\n",
    "    print('Success')"
   ],
   "id": "827c0c96ddc79e6c",
   "outputs": [],
   "execution_count": 5
  },
  {
   "metadata": {
    "ExecuteTime": {
     "end_time": "2024-04-29T03:12:36.875004Z",
     "start_time": "2024-04-29T03:12:36.871113Z"
    }
   },
   "cell_type": "code",
   "source": [
    "### OLD CODE\n",
    "\n",
    "# test_features = [*(f'mfcc{n}' for n in range(extractor.mfccs // 2)), 'zcr']\n",
    "# \n",
    "# frame = pd.DataFrame(data)\n",
    "# categories = frame[['genre']]\n",
    "# predictors = frame[test_features]\n",
    "# predictors.columns = test_features\n",
    "# \n",
    "# pre_train, pre_test, cat_train, cat_test = train_test_split(predictors, categories, test_size=0.33, random_state=5)\n",
    "# model = LogisticRegression(multi_class='multinomial', solver='newton-cg', max_iter=1000)\n",
    "# model.fit(pre_train, cat_train.genre)\n",
    "# predictions = model.predict(pre_test)\n",
    "# print(confusion_matrix(cat_test, predictions))\n",
    "# print(classification_report(cat_test, predictions))"
   ],
   "id": "eb34791ec127cf69",
   "outputs": [],
   "execution_count": 6
  },
  {
   "metadata": {
    "ExecuteTime": {
     "end_time": "2024-04-29T03:12:36.904656Z",
     "start_time": "2024-04-29T03:12:36.876017Z"
    }
   },
   "cell_type": "code",
   "source": [
    "### RUN THIS CELL TO GET THE DATA WITHOUT RE-EXTRACTING THE FEATURES \n",
    "DATA = FileIO('data.json').get_data()"
   ],
   "id": "74d846b70ea633b4",
   "outputs": [],
   "execution_count": 7
  },
  {
   "metadata": {
    "ExecuteTime": {
     "end_time": "2024-04-29T03:12:37.116100Z",
     "start_time": "2024-04-29T03:12:36.905665Z"
    }
   },
   "cell_type": "code",
   "source": [
    "### EXAMPLE MODEL\n",
    "\n",
    "\n",
    "\n",
    "# Change the list in this constructor to change the features analyzed (names must match JSON file)\n",
    "mE = Model(DATA,\n",
    "           [*(f'mfcc{n}' for n in range(10)), \n",
    "            'contrast',\n",
    "            'zcr']\n",
    "           )\n",
    "\n",
    "# Add parameters to change model functionality\n",
    "mE.generate_model()\n",
    "print(mE.get_matrix())\n",
    "print(mE.get_report())"
   ],
   "id": "49328fcf388de8b6",
   "outputs": [
    {
     "name": "stdout",
     "output_type": "stream",
     "text": [
      "[[11  0  2  0  3]\n",
      " [ 0 11  0  6  3]\n",
      " [ 2  0  9  0  0]\n",
      " [ 1  3  0 13  3]\n",
      " [ 1  4  3  1  7]]\n",
      "              precision    recall  f1-score   support\n",
      "\n",
      "   classical       0.73      0.69      0.71        16\n",
      "      hiphop       0.61      0.55      0.58        20\n",
      "        jazz       0.64      0.82      0.72        11\n",
      "         pop       0.65      0.65      0.65        20\n",
      "      reggae       0.44      0.44      0.44        16\n",
      "\n",
      "    accuracy                           0.61        83\n",
      "   macro avg       0.61      0.63      0.62        83\n",
      "weighted avg       0.61      0.61      0.61        83\n",
      "\n"
     ]
    }
   ],
   "execution_count": 8
  },
  {
   "metadata": {
    "ExecuteTime": {
     "end_time": "2024-04-29T03:12:37.194466Z",
     "start_time": "2024-04-29T03:12:37.117109Z"
    }
   },
   "cell_type": "code",
   "source": [
    "# model 1, 5 mfccs\n",
    "m1 = Model(DATA, [*(f'mfcc{n}' for n in range(5))])\n",
    "\n",
    "# Add parameters to change model functionality\n",
    "m1.generate_model()\n",
    "print(m1.get_matrix())\n",
    "print(m1.get_report())\n",
    "# does good with classical and reggae classification"
   ],
   "id": "6760aaf110874ac1",
   "outputs": [
    {
     "name": "stdout",
     "output_type": "stream",
     "text": [
      "[[10  2  3  1  0]\n",
      " [ 0  9  0  9  2]\n",
      " [ 2  0  9  0  0]\n",
      " [ 0  1  0 18  1]\n",
      " [ 1  3  2  1  9]]\n",
      "              precision    recall  f1-score   support\n",
      "\n",
      "   classical       0.77      0.62      0.69        16\n",
      "      hiphop       0.60      0.45      0.51        20\n",
      "        jazz       0.64      0.82      0.72        11\n",
      "         pop       0.62      0.90      0.73        20\n",
      "      reggae       0.75      0.56      0.64        16\n",
      "\n",
      "    accuracy                           0.66        83\n",
      "   macro avg       0.68      0.67      0.66        83\n",
      "weighted avg       0.67      0.66      0.65        83\n",
      "\n"
     ]
    }
   ],
   "execution_count": 9
  },
  {
   "metadata": {
    "ExecuteTime": {
     "end_time": "2024-04-29T03:12:37.362114Z",
     "start_time": "2024-04-29T03:12:37.196480Z"
    }
   },
   "cell_type": "code",
   "source": [
    "# model 2, 10 mfccs\n",
    "m2 = Model(DATA, [*(f'mfcc{n}' for n in range(10))])\n",
    "\n",
    "# Add parameters to change model functionality\n",
    "m2.generate_model()\n",
    "print(m2.get_matrix())\n",
    "print(m2.get_report())\n",
    "# significantly worse at reggae, and overall"
   ],
   "id": "193fa051eb9b5f55",
   "outputs": [
    {
     "name": "stdout",
     "output_type": "stream",
     "text": [
      "[[11  0  2  0  3]\n",
      " [ 0 10  1  6  3]\n",
      " [ 3  0  8  0  0]\n",
      " [ 0  4  0 14  2]\n",
      " [ 1  6  2  1  6]]\n",
      "              precision    recall  f1-score   support\n",
      "\n",
      "   classical       0.73      0.69      0.71        16\n",
      "      hiphop       0.50      0.50      0.50        20\n",
      "        jazz       0.62      0.73      0.67        11\n",
      "         pop       0.67      0.70      0.68        20\n",
      "      reggae       0.43      0.38      0.40        16\n",
      "\n",
      "    accuracy                           0.59        83\n",
      "   macro avg       0.59      0.60      0.59        83\n",
      "weighted avg       0.59      0.59      0.59        83\n",
      "\n"
     ]
    }
   ],
   "execution_count": 10
  },
  {
   "metadata": {
    "ExecuteTime": {
     "end_time": "2024-04-29T03:12:37.403782Z",
     "start_time": "2024-04-29T03:12:37.363123Z"
    }
   },
   "cell_type": "code",
   "source": [
    "# model 3, first 3 mfccs, skipping zero\n",
    "m3 = Model(DATA, [*(f'mfcc{n}' for n in range(1,4))])\n",
    "\n",
    "# Add parameters to change model functionality\n",
    "m3.generate_model()\n",
    "print(m3.get_matrix())\n",
    "print(m3.get_report())\n",
    "# 0.70 accuracy, nice!"
   ],
   "id": "ab2542c72507515",
   "outputs": [
    {
     "name": "stdout",
     "output_type": "stream",
     "text": [
      "[[14  1  1  0  0]\n",
      " [ 1 10  0  6  3]\n",
      " [ 3  0  6  0  2]\n",
      " [ 0  1  0 18  1]\n",
      " [ 1  2  3  0 10]]\n",
      "              precision    recall  f1-score   support\n",
      "\n",
      "   classical       0.74      0.88      0.80        16\n",
      "      hiphop       0.71      0.50      0.59        20\n",
      "        jazz       0.60      0.55      0.57        11\n",
      "         pop       0.75      0.90      0.82        20\n",
      "      reggae       0.62      0.62      0.62        16\n",
      "\n",
      "    accuracy                           0.70        83\n",
      "   macro avg       0.69      0.69      0.68        83\n",
      "weighted avg       0.69      0.70      0.69        83\n",
      "\n"
     ]
    }
   ],
   "execution_count": 11
  },
  {
   "metadata": {
    "ExecuteTime": {
     "end_time": "2024-04-29T03:12:37.452144Z",
     "start_time": "2024-04-29T03:12:37.404793Z"
    }
   },
   "cell_type": "code",
   "source": [
    "# model 4, adding rms to the model\n",
    "m4 = Model(DATA, [*(f'mfcc{n}' for n in range(1,4)), 'rms'])\n",
    "\n",
    "# Add parameters to change model functionality\n",
    "m4.generate_model()\n",
    "print(m4.get_matrix())\n",
    "print(m4.get_report())\n",
    "# slight improvement, may keep"
   ],
   "id": "3bd1b69f1577f074",
   "outputs": [
    {
     "name": "stdout",
     "output_type": "stream",
     "text": [
      "[[14  1  1  0  0]\n",
      " [ 1 11  0  6  2]\n",
      " [ 3  0  6  0  2]\n",
      " [ 0  1  0 18  1]\n",
      " [ 1  2  3  0 10]]\n",
      "              precision    recall  f1-score   support\n",
      "\n",
      "   classical       0.74      0.88      0.80        16\n",
      "      hiphop       0.73      0.55      0.63        20\n",
      "        jazz       0.60      0.55      0.57        11\n",
      "         pop       0.75      0.90      0.82        20\n",
      "      reggae       0.67      0.62      0.65        16\n",
      "\n",
      "    accuracy                           0.71        83\n",
      "   macro avg       0.70      0.70      0.69        83\n",
      "weighted avg       0.71      0.71      0.70        83\n",
      "\n"
     ]
    }
   ],
   "execution_count": 12
  },
  {
   "metadata": {
    "ExecuteTime": {
     "end_time": "2024-04-29T03:12:37.584131Z",
     "start_time": "2024-04-29T03:12:37.453155Z"
    }
   },
   "cell_type": "code",
   "source": [
    "# model 5, adding spectral centroid to the model\n",
    "m5 = Model(DATA, [*(f'mfcc{n}' for n in range(1,4)), 'rms', 'centroid'])\n",
    "\n",
    "# Add parameters to change model functionality\n",
    "m5.generate_model()\n",
    "print(m5.get_matrix())\n",
    "print(m5.get_report())\n",
    "# adding centroid significantly damages the models ability to correctly identify jazz, pop, and reggae"
   ],
   "id": "3bc8c07602ebebc4",
   "outputs": [
    {
     "name": "stdout",
     "output_type": "stream",
     "text": [
      "[[11  0  2  1  2]\n",
      " [ 0  9  0  7  4]\n",
      " [ 4  0  5  0  2]\n",
      " [ 0  1  1 18  0]\n",
      " [ 0  2  5  1  8]]\n",
      "              precision    recall  f1-score   support\n",
      "\n",
      "   classical       0.73      0.69      0.71        16\n",
      "      hiphop       0.75      0.45      0.56        20\n",
      "        jazz       0.38      0.45      0.42        11\n",
      "         pop       0.67      0.90      0.77        20\n",
      "      reggae       0.50      0.50      0.50        16\n",
      "\n",
      "    accuracy                           0.61        83\n",
      "   macro avg       0.61      0.60      0.59        83\n",
      "weighted avg       0.63      0.61      0.61        83\n",
      "\n"
     ]
    }
   ],
   "execution_count": 13
  },
  {
   "metadata": {
    "ExecuteTime": {
     "end_time": "2024-04-29T03:12:37.717058Z",
     "start_time": "2024-04-29T03:12:37.585247Z"
    }
   },
   "cell_type": "code",
   "source": [
    "# model 6, bandwidth\n",
    "m5 = Model(DATA, [*(f'mfcc{n}' for n in range(1,4)), 'rms', 'bandwidth'])\n",
    "\n",
    "# Add parameters to change model functionality\n",
    "m5.generate_model()\n",
    "print(m5.get_matrix())\n",
    "print(m5.get_report())\n",
    "# bandwidth hurts classical and hiphop"
   ],
   "id": "553330efa40698ee",
   "outputs": [
    {
     "name": "stdout",
     "output_type": "stream",
     "text": [
      "[[ 9  1  4  0  2]\n",
      " [ 1  9  0  7  3]\n",
      " [ 4  0  6  0  1]\n",
      " [ 0  2  0 18  0]\n",
      " [ 0  4  2  1  9]]\n",
      "              precision    recall  f1-score   support\n",
      "\n",
      "   classical       0.64      0.56      0.60        16\n",
      "      hiphop       0.56      0.45      0.50        20\n",
      "        jazz       0.50      0.55      0.52        11\n",
      "         pop       0.69      0.90      0.78        20\n",
      "      reggae       0.60      0.56      0.58        16\n",
      "\n",
      "    accuracy                           0.61        83\n",
      "   macro avg       0.60      0.60      0.60        83\n",
      "weighted avg       0.61      0.61      0.61        83\n",
      "\n"
     ]
    }
   ],
   "execution_count": 14
  },
  {
   "metadata": {
    "ExecuteTime": {
     "end_time": "2024-04-29T03:12:37.780501Z",
     "start_time": "2024-04-29T03:12:37.718065Z"
    }
   },
   "cell_type": "code",
   "source": [
    "# model 7, contrast\n",
    "m7 = Model(DATA, [*(f'mfcc{n}' for n in range(1,4)), 'rms', 'contrast'])\n",
    "\n",
    "# Add parameters to change model functionality\n",
    "m7.generate_model()\n",
    "print(m7.get_matrix())\n",
    "print(m7.get_report())\n",
    "# non beneficial"
   ],
   "id": "fc21713197d46782",
   "outputs": [
    {
     "name": "stdout",
     "output_type": "stream",
     "text": [
      "[[13  2  1  0  0]\n",
      " [ 0 10  0  7  3]\n",
      " [ 4  0  6  0  1]\n",
      " [ 0  1  0 18  1]\n",
      " [ 1  3  3  1  8]]\n",
      "              precision    recall  f1-score   support\n",
      "\n",
      "   classical       0.72      0.81      0.76        16\n",
      "      hiphop       0.62      0.50      0.56        20\n",
      "        jazz       0.60      0.55      0.57        11\n",
      "         pop       0.69      0.90      0.78        20\n",
      "      reggae       0.62      0.50      0.55        16\n",
      "\n",
      "    accuracy                           0.66        83\n",
      "   macro avg       0.65      0.65      0.65        83\n",
      "weighted avg       0.65      0.66      0.65        83\n",
      "\n"
     ]
    }
   ],
   "execution_count": 15
  },
  {
   "metadata": {
    "ExecuteTime": {
     "end_time": "2024-04-29T03:12:37.906038Z",
     "start_time": "2024-04-29T03:12:37.781510Z"
    }
   },
   "cell_type": "code",
   "source": [
    "# model 8, rolloff\n",
    "m8 = Model(DATA, [*(f'mfcc{n}' for n in range(1,4)), 'rms', 'rolloff'])\n",
    "\n",
    "# Add parameters to change model functionality\n",
    "m8.generate_model()\n",
    "print(m8.get_matrix())\n",
    "print(m8.get_report())\n",
    "# rolloff hurt jazz detection significantly"
   ],
   "id": "10f72b1904ade0c5",
   "outputs": [
    {
     "name": "stdout",
     "output_type": "stream",
     "text": [
      "[[ 9  0  4  1  2]\n",
      " [ 0  9  0  7  4]\n",
      " [ 4  0  5  0  2]\n",
      " [ 0  1  1 18  0]\n",
      " [ 0  4  4  1  7]]\n",
      "              precision    recall  f1-score   support\n",
      "\n",
      "   classical       0.69      0.56      0.62        16\n",
      "      hiphop       0.64      0.45      0.53        20\n",
      "        jazz       0.36      0.45      0.40        11\n",
      "         pop       0.67      0.90      0.77        20\n",
      "      reggae       0.47      0.44      0.45        16\n",
      "\n",
      "    accuracy                           0.58        83\n",
      "   macro avg       0.57      0.56      0.55        83\n",
      "weighted avg       0.59      0.58      0.57        83\n",
      "\n"
     ]
    }
   ],
   "execution_count": 16
  },
  {
   "metadata": {
    "ExecuteTime": {
     "end_time": "2024-04-29T03:12:37.955010Z",
     "start_time": "2024-04-29T03:12:37.907049Z"
    }
   },
   "cell_type": "code",
   "source": [
    "# model 9, zero crossing rate\n",
    "m9 = Model(DATA, [*(f'mfcc{n}' for n in range(1,4)), 'rms', 'zcr'])\n",
    "\n",
    "# Add parameters to change model functionality\n",
    "m9.generate_model()\n",
    "print(m9.get_matrix())\n",
    "print(m9.get_report())\n",
    "# no real effect not attributed to mfcc 1-4 and rms"
   ],
   "id": "9021fe79d12fe0ae",
   "outputs": [
    {
     "name": "stdout",
     "output_type": "stream",
     "text": [
      "[[14  1  1  0  0]\n",
      " [ 1 11  0  6  2]\n",
      " [ 3  0  6  0  2]\n",
      " [ 0  1  0 18  1]\n",
      " [ 1  2  3  0 10]]\n",
      "              precision    recall  f1-score   support\n",
      "\n",
      "   classical       0.74      0.88      0.80        16\n",
      "      hiphop       0.73      0.55      0.63        20\n",
      "        jazz       0.60      0.55      0.57        11\n",
      "         pop       0.75      0.90      0.82        20\n",
      "      reggae       0.67      0.62      0.65        16\n",
      "\n",
      "    accuracy                           0.71        83\n",
      "   macro avg       0.70      0.70      0.69        83\n",
      "weighted avg       0.71      0.71      0.70        83\n",
      "\n"
     ]
    }
   ],
   "execution_count": 17
  },
  {
   "metadata": {
    "ExecuteTime": {
     "end_time": "2024-04-29T03:12:38.192829Z",
     "start_time": "2024-04-29T03:12:37.956022Z"
    }
   },
   "cell_type": "code",
   "source": [
    "#model 10, including another mfcc and tempo, contrast, and rolloff\n",
    "m10 = Model(DATA, [*(f'mfcc{n}' for n in range(1,5)), 'rms', 'tempo', 'contrast', 'rolloff'])\n",
    "\n",
    "# Add parameters to change model functionality\n",
    "m10.generate_model()\n",
    "print(m10.get_matrix())\n",
    "print(m10.get_report())\n",
    "# Adding"
   ],
   "id": "f028eda14d07e515",
   "outputs": [
    {
     "name": "stdout",
     "output_type": "stream",
     "text": [
      "[[12  0  1  0  3]\n",
      " [ 0 11  0  7  2]\n",
      " [ 4  0  7  0  0]\n",
      " [ 0  1  0 18  1]\n",
      " [ 0  1  3  1 11]]\n",
      "              precision    recall  f1-score   support\n",
      "\n",
      "   classical       0.75      0.75      0.75        16\n",
      "      hiphop       0.85      0.55      0.67        20\n",
      "        jazz       0.64      0.64      0.64        11\n",
      "         pop       0.69      0.90      0.78        20\n",
      "      reggae       0.65      0.69      0.67        16\n",
      "\n",
      "    accuracy                           0.71        83\n",
      "   macro avg       0.71      0.70      0.70        83\n",
      "weighted avg       0.72      0.71      0.71        83\n",
      "\n"
     ]
    }
   ],
   "execution_count": 18
  },
  {
   "metadata": {
    "ExecuteTime": {
     "end_time": "2024-04-29T03:12:38.447994Z",
     "start_time": "2024-04-29T03:12:38.193841Z"
    }
   },
   "cell_type": "code",
   "source": [
    "# final contenders\n",
    "# mF1, just MFCCs 1, 2, and 3, and the RMS.\n",
    "mF1 = Model(DATA, [*(f'mfcc{n}' for n in range(1,4)), 'rms'])\n",
    "mF1.generate_model()\n",
    "print(mF1.get_matrix())\n",
    "print(mF1.get_report())\n",
    "\n",
    "#mF2, MFCCs 1-4, RMS, Tempo, Spectral Contrast, and Spectral Rolloff\n",
    "mF2 = Model(DATA, [*(f'mfcc{n}' for n in range(1,5)), 'rms', 'tempo', 'contrast', 'rolloff'])\n",
    "mF2.generate_model()\n",
    "print(mF2.get_matrix())\n",
    "print(mF2.get_report())\n",
    "\n",
    "# mF1 being better at pop is weighing the results"
   ],
   "id": "d7ce8606d97cb5ba",
   "outputs": [
    {
     "name": "stdout",
     "output_type": "stream",
     "text": [
      "[[14  1  1  0  0]\n",
      " [ 1 11  0  6  2]\n",
      " [ 3  0  6  0  2]\n",
      " [ 0  1  0 18  1]\n",
      " [ 1  2  3  0 10]]\n",
      "              precision    recall  f1-score   support\n",
      "\n",
      "   classical       0.74      0.88      0.80        16\n",
      "      hiphop       0.73      0.55      0.63        20\n",
      "        jazz       0.60      0.55      0.57        11\n",
      "         pop       0.75      0.90      0.82        20\n",
      "      reggae       0.67      0.62      0.65        16\n",
      "\n",
      "    accuracy                           0.71        83\n",
      "   macro avg       0.70      0.70      0.69        83\n",
      "weighted avg       0.71      0.71      0.70        83\n",
      "\n",
      "[[12  0  1  0  3]\n",
      " [ 0 11  0  7  2]\n",
      " [ 4  0  7  0  0]\n",
      " [ 0  1  0 18  1]\n",
      " [ 0  1  3  1 11]]\n",
      "              precision    recall  f1-score   support\n",
      "\n",
      "   classical       0.75      0.75      0.75        16\n",
      "      hiphop       0.85      0.55      0.67        20\n",
      "        jazz       0.64      0.64      0.64        11\n",
      "         pop       0.69      0.90      0.78        20\n",
      "      reggae       0.65      0.69      0.67        16\n",
      "\n",
      "    accuracy                           0.71        83\n",
      "   macro avg       0.71      0.70      0.70        83\n",
      "weighted avg       0.72      0.71      0.71        83\n",
      "\n"
     ]
    }
   ],
   "execution_count": 19
  },
  {
   "metadata": {
    "ExecuteTime": {
     "end_time": "2024-04-29T03:12:38.450713Z",
     "start_time": "2024-04-29T03:12:38.449006Z"
    }
   },
   "cell_type": "code",
   "source": "",
   "id": "59b0d6ed5c077afd",
   "outputs": [],
   "execution_count": 19
  },
  {
   "metadata": {
    "ExecuteTime": {
     "end_time": "2024-04-29T03:12:38.453722Z",
     "start_time": "2024-04-29T03:12:38.451726Z"
    }
   },
   "cell_type": "code",
   "source": "",
   "id": "ebd4d54421910076",
   "outputs": [],
   "execution_count": 19
  },
  {
   "metadata": {
    "ExecuteTime": {
     "end_time": "2024-04-29T03:12:38.456737Z",
     "start_time": "2024-04-29T03:12:38.454745Z"
    }
   },
   "cell_type": "code",
   "source": "",
   "id": "163fc1fad9af6d9e",
   "outputs": [],
   "execution_count": 19
  },
  {
   "metadata": {
    "ExecuteTime": {
     "end_time": "2024-04-29T03:12:38.459979Z",
     "start_time": "2024-04-29T03:12:38.457751Z"
    }
   },
   "cell_type": "code",
   "source": "",
   "id": "dd1b70e9f21f990c",
   "outputs": [],
   "execution_count": 19
  }
 ],
 "metadata": {
  "kernelspec": {
   "display_name": "Python 3",
   "language": "python",
   "name": "python3"
  },
  "language_info": {
   "codemirror_mode": {
    "name": "ipython",
    "version": 2
   },
   "file_extension": ".py",
   "mimetype": "text/x-python",
   "name": "python",
   "nbconvert_exporter": "python",
   "pygments_lexer": "ipython2",
   "version": "2.7.6"
  }
 },
 "nbformat": 4,
 "nbformat_minor": 5
}
