{
 "cells": [
  {
   "cell_type": "code",
   "id": "initial_id",
   "metadata": {
    "collapsed": true,
    "ExecuteTime": {
     "end_time": "2024-04-25T00:33:07.571906Z",
     "start_time": "2024-04-25T00:33:07.568696Z"
    }
   },
   "source": [
    "from __future__ import annotations\n",
    "\n",
    "import json\n",
    "import os\n",
    "from pathlib import Path\n",
    "from queue import Queue\n",
    "\n",
    "import numpy as np\n",
    "import pandas as pd\n",
    "from librosa import load, feature\n",
    "from sklearn.linear_model import LogisticRegression\n",
    "from sklearn.metrics import confusion_matrix, classification_report\n",
    "from sklearn.model_selection import train_test_split\n",
    "\n",
    "PATH_TO_FILES = Path('files/')"
   ],
   "outputs": [],
   "execution_count": 82
  },
  {
   "metadata": {
    "ExecuteTime": {
     "end_time": "2024-04-25T00:01:45.654351Z",
     "start_time": "2024-04-25T00:01:45.646300Z"
    }
   },
   "cell_type": "code",
   "source": [
    "class FileFinder:\n",
    "    suffixes: set[str]\n",
    "    _queue: Queue[Path]\n",
    "\n",
    "    def __init__(self, root, suffixes):\n",
    "        self.root = Path(root)\n",
    "        self._queue = Queue()\n",
    "        self.suffixes = suffixes\n",
    "\n",
    "        self._queue.put(self.root)\n",
    "\n",
    "    def get_next_file(self):\n",
    "        if self._queue.empty():\n",
    "            print(\"Queue is empty\")\n",
    "            return None\n",
    "\n",
    "        res = self._queue.get()\n",
    "        if res.is_dir():\n",
    "            for child in res.iterdir():\n",
    "                if child.suffix[1:].lower() in self.suffixes or child.is_dir():\n",
    "                    # print(f'Added {child.name} to queue [{\"folder\" if child.is_dir() else child.suffix}]')\n",
    "                    self._queue.put(child)\n",
    "            return Ellipsis\n",
    "        else:\n",
    "            return res if res.suffix[1:] in self.suffixes else None\n",
    "\n",
    "    def reset(self):\n",
    "        self._queue = Queue()\n",
    "        self._queue.put(self.root)\n",
    "\n",
    "    def get_rel_path(self, file: Path):\n",
    "        return Path(os.path.relpath(file.parent, self.root).__str__())\n",
    "\n",
    "    def get_full_path(self, file: Path):\n",
    "        return self.root.joinpath(file)\n",
    "\n",
    "class FileIO:\n",
    "    _data: list[dict, ...]\n",
    "\n",
    "    def __init__(self, path):\n",
    "        self.path = Path(path)\n",
    "        self._data = ...\n",
    "    \n",
    "    def get_data(self):\n",
    "        with open(self.path) as json_file:\n",
    "            self._data = json.load(json_file)\n",
    "        return self._data\n",
    "    \n",
    "    def set_data(self, data):\n",
    "        if type(data) is list:\n",
    "            self._data = data\n",
    "            with open(self.path, 'w') as json_file:\n",
    "                json_file.write(json.dumps(self._data, sort_keys=False, indent=4))\n",
    "        "
   ],
   "id": "5f5eeeb264f2ef48",
   "outputs": [],
   "execution_count": 39
  },
  {
   "metadata": {
    "ExecuteTime": {
     "end_time": "2024-04-25T00:34:43.534156Z",
     "start_time": "2024-04-25T00:34:43.529805Z"
    }
   },
   "cell_type": "code",
   "source": [
    "class FeatureExtractor:\n",
    "    def __init__(self):\n",
    "        self.mfccs = 10\n",
    "        self.rate = 22050\n",
    "    \n",
    "\n",
    "    def mfcc(self, audio):\n",
    "        return np.mean(feature.mfcc(y=audio, sr=self.rate, n_mfcc=self.mfccs).tolist(), axis=1)\n",
    "    \n",
    "    def contrast(self, audio):\n",
    "        return np.mean(feature.spectral_contrast(y=audio, sr=self.rate).tolist())\n",
    "        "
   ],
   "id": "f4f4ebbde3d31332",
   "outputs": [],
   "execution_count": 91
  },
  {
   "metadata": {
    "ExecuteTime": {
     "end_time": "2024-04-25T00:34:49.463289Z",
     "start_time": "2024-04-25T00:34:43.810902Z"
    }
   },
   "cell_type": "code",
   "source": [
    "finder = FileFinder(PATH_TO_FILES, ('au', ))\n",
    "output = FileIO('data.json')\n",
    "extractor = FeatureExtractor()\n",
    "data = []\n",
    "\n",
    "while True:\n",
    "    curr = finder.get_next_file()\n",
    "    if not curr:\n",
    "        break\n",
    "    elif curr is ...:\n",
    "        continue\n",
    "    else:\n",
    "        curr_file, fs = load(curr, duration=7)\n",
    "        data.append(dict(\n",
    "            id=curr.name,\n",
    "            genre=curr.parent.name,\n",
    "            **dict(zip((f'mfcc{n}' for n in range(extractor.mfccs)), extractor.mfcc(curr_file))),\n",
    "            contrast=extractor.contrast(curr_file),\n",
    "            prediction=''\n",
    "        ))\n",
    "        # print(curr.parent.name, curr.name.split('.')[1])\n",
    "\n",
    "output.set_data(data)\n",
    "print('Success')"
   ],
   "id": "827c0c96ddc79e6c",
   "outputs": [
    {
     "name": "stdout",
     "output_type": "stream",
     "text": [
      "Queue is empty\n",
      "Success\n"
     ]
    }
   ],
   "execution_count": 92
  },
  {
   "metadata": {
    "ExecuteTime": {
     "end_time": "2024-04-25T00:34:49.915039Z",
     "start_time": "2024-04-25T00:34:49.465943Z"
    }
   },
   "cell_type": "code",
   "source": [
    "features = [*(f'mfcc{n}' for n in range(extractor.mfccs)), 'contrast']\n",
    "\n",
    "frame = pd.DataFrame(data)\n",
    "categories = frame[['genre']]\n",
    "predictors = frame[features]\n",
    "predictors.columns = features\n",
    "\n",
    "pre_train, pre_test, cat_train, cat_test = train_test_split(predictors, categories, test_size=0.33, random_state=5)\n",
    "model = LogisticRegression(multi_class='multinomial', solver='lbfgs', max_iter=200000)\n",
    "model.fit(pre_train, cat_train.genre)\n",
    "predictions = model.predict(pre_test)\n",
    "# confusion_matrix(cat_test, predictions)\n",
    "print(classification_report(cat_test, predictions))"
   ],
   "id": "eb34791ec127cf69",
   "outputs": [
    {
     "name": "stdout",
     "output_type": "stream",
     "text": [
      "              precision    recall  f1-score   support\n",
      "\n",
      "   classical       0.82      0.82      0.82        11\n",
      "      hiphop       0.57      0.40      0.47        20\n",
      "        jazz       0.58      0.94      0.71        16\n",
      "         pop       0.59      0.81      0.68        16\n",
      "      reggae       0.70      0.35      0.47        20\n",
      "\n",
      "    accuracy                           0.63        83\n",
      "   macro avg       0.65      0.66      0.63        83\n",
      "weighted avg       0.64      0.63      0.60        83\n",
      "\n"
     ]
    }
   ],
   "execution_count": 93
  },
  {
   "metadata": {},
   "cell_type": "code",
   "outputs": [],
   "execution_count": null,
   "source": "",
   "id": "ab2542c72507515"
  }
 ],
 "metadata": {
  "kernelspec": {
   "display_name": "Python 3",
   "language": "python",
   "name": "python3"
  },
  "language_info": {
   "codemirror_mode": {
    "name": "ipython",
    "version": 2
   },
   "file_extension": ".py",
   "mimetype": "text/x-python",
   "name": "python",
   "nbconvert_exporter": "python",
   "pygments_lexer": "ipython2",
   "version": "2.7.6"
  }
 },
 "nbformat": 4,
 "nbformat_minor": 5
}
